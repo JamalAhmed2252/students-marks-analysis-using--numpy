{
 "cells": [
  {
   "cell_type": "markdown",
   "id": "babc76a6",
   "metadata": {},
   "source": [
    "🧩 NumPy Mini Challenge: Student Marks Dashboard\n",
    "🎯 Scenario:\n",
    "You're given a flat array of marks for 4 students in 5 subjects. Each student has marks for Math, English, Physics, Chemistry, and History.\n",
    "\n",
    "📦 Step-by-Step Tasks:\n",
    "✅ Step 1: Create the array\n",
    "Create a 1D array of 20 integers (marks between 50–100) and reshape it to shape (4, 5)\n",
    "➡️ Shape = (4 students, 5 subjects)\n",
    "\n",
    "✅ Step 2: Print student-wise data\n",
    "Print marks of each student clearly.\n",
    "\n",
    "✅ Step 3: Print subject-wise average marks\n",
    "Calculate and print the average mark in each subject (column-wise average)\n",
    "\n",
    "✅ Step 4: Find the highest total scorer\n",
    "Find the student (row) with the highest total marks.\n",
    "\n",
    "✅ Step 5: Curve the marks\n",
    "Add 5 bonus marks to all students' marks, but don't let any value exceed 100\n",
    "➡️ Use broadcasting + np.clip()\n",
    "\n",
    "✅ Step 6: Check view vs copy\n",
    "Make a slice of a student's marks, modify it, and see if it changes the original array.\n",
    "Then do the same using .copy() and confirm the difference."
   ]
  },
  {
   "cell_type": "code",
   "execution_count": 23,
   "id": "aa3b07d6",
   "metadata": {},
   "outputs": [
    {
     "name": "stdout",
     "output_type": "stream",
     "text": [
      "Marks of each student (student * marks) : [[68 85 94 83 76]\n",
      " [64 82 61 50 60]\n",
      " [82 99 79 62 68]\n",
      " [89 75 99 86 69]]\n",
      "Student1 has score [68 85 94 83 76]\n",
      "Student2 has score [64 82 61 50 60]\n",
      "Student3 has score [82 99 79 62 68]\n",
      "Student4 has score [89 75 99 86 69]\n",
      "Subject wise or column wise  average marks of students are: [75.75 85.25 83.25 70.25 68.25]\n",
      "Student 4 has top score 418\n",
      "Marks of all the student =  [[ 73  90  99  88  81]\n",
      " [ 69  87  66  55  65]\n",
      " [ 87 100  84  67  73]\n",
      " [ 94  80 100  91  74]]\n",
      "The slice of the marks array is [68 85 94 83 76]\n",
      "Now see the changes in the original marks array [68 83 94 83 76]  \n",
      "So the slice_view is the view and it values changes\n",
      "the change in copy donot change the original array [68 83 94 83 76] only copy changes [88 94 83]\n"
     ]
    }
   ],
   "source": [
    "import numpy as np \n",
    "marks=np.random.randint(50,100,size=20).reshape(4,5)\n",
    "print (\"Marks of each student (student * marks) :\",marks)\n",
    "for i in range(4):\n",
    "    print(f\"Student{i+1} has score {marks[i]}\")\n",
    "col_wise= marks.mean(axis=0)\n",
    "print(\"Subject wise or column wise  average marks of students are:\",col_wise)\n",
    "total_marks=marks.sum(axis=1)\n",
    "top_scorrer_index=np.argmax(total_marks)\n",
    "print(f\"Student {top_scorrer_index+1} has top score {total_marks[top_scorrer_index]}\")\n",
    "curve=np.clip(marks+5,0,100)\n",
    "print(\"Marks of all the student = \",curve)\n",
    "slice_view=marks[0][1:4]\n",
    "print(\"The slice of the marks array is\",marks[0])\n",
    "slice_view[0]=83\n",
    "print(\"Now see the changes in the original marks array\",marks[0],\" \\nSo the slice_view is the view and it values changes\")\n",
    "slice_view=marks[0][1:4].copy()\n",
    "slice_view[0]=88\n",
    "print(\"the change in copy donot change the original array\",marks[0],\"only copy changes\",slice_view)\n",
    "\n"
   ]
  }
 ],
 "metadata": {
  "kernelspec": {
   "display_name": "first_env",
   "language": "python",
   "name": "python3"
  },
  "language_info": {
   "codemirror_mode": {
    "name": "ipython",
    "version": 3
   },
   "file_extension": ".py",
   "mimetype": "text/x-python",
   "name": "python",
   "nbconvert_exporter": "python",
   "pygments_lexer": "ipython3",
   "version": "3.13.3"
  }
 },
 "nbformat": 4,
 "nbformat_minor": 5
}
